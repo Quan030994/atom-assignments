{
 "cells": [
  {
   "cell_type": "markdown",
   "metadata": {
    "id": "4w2e0D-hni2p"
   },
   "source": [
    "# HOME ASSIGNMENT #3: SLACK API - TO GSHEET\n",
    "**Mục đích của bài Assignment**\n",
    "- Lấy thông tin các Users từ Slack của DataCracy (BTC, Mentors và Learners)\n",
    "- `**[Optional 1]**` Đưa danh sách Users lên Google Spreadsheet, để theo dõi \n",
    "- `**[Optional 2]**` Lấy thông tin Assignment Submission và số Reviews trên `#atom-assignmentnt2` và cập nhật lên Spreadsheet, để theo dõi các học viên đã nộp bài và được review\n",
    "\n",
    "**Các kiến thức sẽ áp dụng**\n",
    "- Ôn lại và luyện tập thêm về concept API (cụ thể sử dụng API Slack)\n",
    "- Trích xuất thông tin từ JSON\n",
    "- Dùng module gspread để đưa thông tin lên Google Spreadsheet"
   ]
  },
  {
   "cell_type": "markdown",
   "metadata": {
    "id": "yitICPVzpRI2"
   },
   "source": [
    "## 0. Load Modules"
   ]
  },
  {
   "cell_type": "code",
   "execution_count": 192,
   "metadata": {
    "id": "G_HCucZ5rSHq"
   },
   "outputs": [],
   "source": [
    "import requests #-> Để gọi API\n",
    "import re #-> Để xử lý data dạng string\n",
    "from datetime import datetime as dt #-> Để xử lý data dạng datetime\n",
    "import gspread #-> Để update data lên Google Spreadsheet\n",
    "from gspread_dataframe import set_with_dataframe #-> Để update data lên Google Spreadsheet\n",
    "import pandas as pd #-> Để update data dạng bản\n",
    "import json \n",
    "from oauth2client.service_account import ServiceAccountCredentials #-> Để nhập Google Spreadsheet Credentials\n",
    "import os"
   ]
  },
  {
   "cell_type": "markdown",
   "metadata": {
    "id": "z7HOk6uMp2K2"
   },
   "source": [
    "## 1. Slack API: User List\n",
    "* Bạn có thể đọc lại về concept API [HERE](https://anhdang.gitbook.io/datacracy/atom/3-data-tools-2/3.2-spotify-api-and-postman)\n",
    "* Assignment này sẽ dùng Slack API để lấy thông tin về Learners và theo dõi các bài tập đã nộp và được review (sau đó cập nhật lên Google Spreadsheet)\n",
    "* ===> **NOTICE**: Slack API authorize bằng Bearer Token `xoxb-...-...-...` (Sẽ được cung cấp riêng)\n",
    "* Update file `env_variable.json` như trong [Assignment#2](../assignment_2/home_assignment_2.ipynb)\n",
    "* ==> Nếu bạn dùng Google Colab, upload file vào Colab ([Hướng dẫn](https://colab.research.google.com/notebooks/io.ipynb))"
   ]
  },
  {
   "cell_type": "code",
   "execution_count": 193,
   "metadata": {
    "colab": {
     "base_uri": "https://localhost:8080/"
    },
    "id": "YoSEHfdTwYRj",
    "outputId": "02b1f5e1-6f9a-4c2b-a481-33284324d1cc"
   },
   "outputs": [
    {
     "name": "stdout",
     "output_type": "stream",
     "text": [
      "env_variable.json\t QuanNguyen-b8bebb09be47.json  response_user_list.json\r\n",
      "home_assignment_3.ipynb  README.md\r\n"
     ]
    }
   ],
   "source": [
    "!ls"
   ]
  },
  {
   "cell_type": "code",
   "execution_count": 194,
   "metadata": {
    "id": "tFPqT2pirhy4"
   },
   "outputs": [],
   "source": [
    "with open('env_variable.json', 'r') as j:\n",
    "    json_data = json.load(j)\n",
    "    #print(json_data)"
   ]
  },
  {
   "cell_type": "code",
   "execution_count": 195,
   "metadata": {
    "id": "wAzmaVTLrpvH"
   },
   "outputs": [],
   "source": [
    "## Load SLACK_BEARER_TOKEN\n",
    "os.environ['SLACK_BEARER_TOKEN'] = json_data['SLACK_BEARER_TOKEN'] "
   ]
  },
  {
   "cell_type": "code",
   "execution_count": 198,
   "metadata": {
    "id": "K_TrDTx138jD"
   },
   "outputs": [],
   "source": [
    "## Gọi API từ Endpoints (Input - Token được đưa vào Headers)\n",
    "## Challenge: Thử gọi API này bằng Postman\n",
    "endpoint = \"https://slack.com/api/users.list\"\n",
    "headers = {\"Authorization\": \"Bearer {}\".format(os.environ['SLACK_BEARER_TOKEN'])}\n",
    "response_json = requests.post(endpoint, headers=headers).json() \n",
    "user_dat = response_json['members']"
   ]
  },
  {
   "cell_type": "code",
   "execution_count": 256,
   "metadata": {},
   "outputs": [],
   "source": [
    "#user_dat"
   ]
  },
  {
   "cell_type": "markdown",
   "metadata": {
    "id": "rqEti4Y50tdB"
   },
   "source": [
    "### TODO #1\n",
    "Hoàn tất đoạn code sau"
   ]
  },
  {
   "cell_type": "code",
   "execution_count": 18,
   "metadata": {
    "id": "P0qbkdhtD9ww"
   },
   "outputs": [],
   "source": [
    "# Solution 1\n",
    "\n",
    "## Loop qua JSON file và extract các thông tin quan trọng (id, name, display_name, real_name_normalized, title, phone, is_bot)\n",
    "## Hint: Bạn có thể dùng Postman hoặc in user_dat JSON để xem cấu trúc (schema), dùng Ctrl+F để tìm các keys (id, name, display_name, real_name_normalized, title, phone, is_bot)\n",
    "user_dict = {'user_id':[], 'name':[], 'display_name':[],'real_name':[],'title':[],'phone':[],'is_bot':[]}\n",
    "for i in range(len(user_dat)):\n",
    "  user_dict['user_id'].append(user_dat[i]['id'])\n",
    "  user_dict['name'].append(user_dat[i]['name'])\n",
    "  user_dict['display_name'].append(user_dat[i]['profile']['display_name'])\n",
    "  user_dict['real_name'].append(user_dat[i]['profile']['real_name_normalized'])\n",
    "  user_dict['title'].append(user_dat[i]['profile']['title'])\n",
    "  user_dict['phone'].append(user_dat[i]['profile']['phone'])\n",
    "  user_dict['is_bot'].append(user_dat[i]['is_bot'])"
   ]
  },
  {
   "cell_type": "code",
   "execution_count": 19,
   "metadata": {
    "colab": {
     "base_uri": "https://localhost:8080/",
     "height": 204
    },
    "id": "yGNvsCauF8_w",
    "outputId": "dfc4c6f7-845c-4202-8fc7-43aeb328554a"
   },
   "outputs": [
    {
     "data": {
      "text/html": [
       "<div>\n",
       "<style scoped>\n",
       "    .dataframe tbody tr th:only-of-type {\n",
       "        vertical-align: middle;\n",
       "    }\n",
       "\n",
       "    .dataframe tbody tr th {\n",
       "        vertical-align: top;\n",
       "    }\n",
       "\n",
       "    .dataframe thead th {\n",
       "        text-align: right;\n",
       "    }\n",
       "</style>\n",
       "<table border=\"1\" class=\"dataframe\">\n",
       "  <thead>\n",
       "    <tr style=\"text-align: right;\">\n",
       "      <th></th>\n",
       "      <th>user_id</th>\n",
       "      <th>name</th>\n",
       "      <th>display_name</th>\n",
       "      <th>real_name</th>\n",
       "      <th>title</th>\n",
       "      <th>phone</th>\n",
       "      <th>is_bot</th>\n",
       "    </tr>\n",
       "  </thead>\n",
       "  <tbody>\n",
       "    <tr>\n",
       "      <th>0</th>\n",
       "      <td>USLACKBOT</td>\n",
       "      <td>slackbot</td>\n",
       "      <td>Slackbot</td>\n",
       "      <td>Slackbot</td>\n",
       "      <td></td>\n",
       "      <td></td>\n",
       "      <td>False</td>\n",
       "    </tr>\n",
       "    <tr>\n",
       "      <th>1</th>\n",
       "      <td>U01AT4T75JB</td>\n",
       "      <td>loclexuan26392</td>\n",
       "      <td>Loc Le Xuan</td>\n",
       "      <td>Loc Le Xuan</td>\n",
       "      <td></td>\n",
       "      <td></td>\n",
       "      <td>False</td>\n",
       "    </tr>\n",
       "    <tr>\n",
       "      <th>2</th>\n",
       "      <td>U01AVDY7JET</td>\n",
       "      <td>locle.ds</td>\n",
       "      <td>Loc Le Xuan</td>\n",
       "      <td>Loc Le Xuan</td>\n",
       "      <td></td>\n",
       "      <td></td>\n",
       "      <td>False</td>\n",
       "    </tr>\n",
       "    <tr>\n",
       "      <th>3</th>\n",
       "      <td>U01BE2PR6LU</td>\n",
       "      <td>maianhdang.ftu</td>\n",
       "      <td>MAD</td>\n",
       "      <td>Dặng Huỳnh Mai Anh</td>\n",
       "      <td>Technical Contents</td>\n",
       "      <td></td>\n",
       "      <td>False</td>\n",
       "    </tr>\n",
       "    <tr>\n",
       "      <th>4</th>\n",
       "      <td>U01C48T7S1J</td>\n",
       "      <td>huyenhoang.design</td>\n",
       "      <td>Thanh Huyen Hoang</td>\n",
       "      <td>Thanh Huyen Hoang</td>\n",
       "      <td></td>\n",
       "      <td></td>\n",
       "      <td>False</td>\n",
       "    </tr>\n",
       "  </tbody>\n",
       "</table>\n",
       "</div>"
      ],
      "text/plain": [
       "       user_id               name       display_name           real_name  \\\n",
       "0    USLACKBOT           slackbot           Slackbot            Slackbot   \n",
       "1  U01AT4T75JB     loclexuan26392        Loc Le Xuan         Loc Le Xuan   \n",
       "2  U01AVDY7JET           locle.ds        Loc Le Xuan         Loc Le Xuan   \n",
       "3  U01BE2PR6LU     maianhdang.ftu                MAD  Dặng Huỳnh Mai Anh   \n",
       "4  U01C48T7S1J  huyenhoang.design  Thanh Huyen Hoang   Thanh Huyen Hoang   \n",
       "\n",
       "                title phone  is_bot  \n",
       "0                             False  \n",
       "1                             False  \n",
       "2                             False  \n",
       "3  Technical Contents         False  \n",
       "4                             False  "
      ]
     },
     "execution_count": 19,
     "metadata": {},
     "output_type": "execute_result"
    }
   ],
   "source": [
    "user_df = pd.DataFrame(user_dict) ## Dùng pandas để convert dictionaries thành bảng\n",
    "user_df.head(5) ## Chỉ in 5 dòng đầu (chủ yếu để xem cấu trúc)"
   ]
  },
  {
   "cell_type": "code",
   "execution_count": 188,
   "metadata": {
    "colab": {
     "base_uri": "https://localhost:8080/",
     "height": 80
    },
    "id": "rjFcaWdt2ABM",
    "outputId": "1a114985-7608-4421-aa51-1e406cc427eb"
   },
   "outputs": [
    {
     "data": {
      "text/html": [
       "<div>\n",
       "<style scoped>\n",
       "    .dataframe tbody tr th:only-of-type {\n",
       "        vertical-align: middle;\n",
       "    }\n",
       "\n",
       "    .dataframe tbody tr th {\n",
       "        vertical-align: top;\n",
       "    }\n",
       "\n",
       "    .dataframe thead th {\n",
       "        text-align: right;\n",
       "    }\n",
       "</style>\n",
       "<table border=\"1\" class=\"dataframe\">\n",
       "  <thead>\n",
       "    <tr style=\"text-align: right;\">\n",
       "      <th></th>\n",
       "      <th>user_id</th>\n",
       "      <th>name</th>\n",
       "      <th>display_name</th>\n",
       "      <th>real_name</th>\n",
       "      <th>title</th>\n",
       "      <th>phone</th>\n",
       "      <th>is_bot</th>\n",
       "    </tr>\n",
       "  </thead>\n",
       "  <tbody>\n",
       "    <tr>\n",
       "      <th>3</th>\n",
       "      <td>U01BE2PR6LU</td>\n",
       "      <td>maianhdang.ftu</td>\n",
       "      <td>MAD</td>\n",
       "      <td>Dặng Huỳnh Mai Anh</td>\n",
       "      <td>Technical Contents</td>\n",
       "      <td></td>\n",
       "      <td>False</td>\n",
       "    </tr>\n",
       "  </tbody>\n",
       "</table>\n",
       "</div>"
      ],
      "text/plain": [
       "       user_id            name display_name  ...               title phone is_bot\n",
       "3  U01BE2PR6LU  maianhdang.ftu          MAD  ...  Technical Contents        False\n",
       "\n",
       "[1 rows x 7 columns]"
      ]
     },
     "execution_count": 188,
     "metadata": {
      "tags": []
     },
     "output_type": "execute_result"
    }
   ],
   "source": [
    "user_df[user_df.display_name == 'MAD'] ## Lọc thông tin của MAD, trên DataFrame (bạn có thể Google thêm)"
   ]
  },
  {
   "cell_type": "code",
   "execution_count": null,
   "metadata": {},
   "outputs": [],
   "source": [
    "a = list(map(str, input().rstrip().split()))#id name deleted profile is_admin is_bot tz updated \n",
    "b = list(map(str, input().rstrip().split()))#title phone skype real_name_normalized display_name_normalized"
   ]
  },
  {
   "cell_type": "markdown",
   "metadata": {},
   "source": [
    "#### Tạo Function sử dụng các parameters bên ngoài get data từ chuối JSON User Slack\n",
    "\n",
    "- Tham số a: dùng để get các thông tin keys mà value là giá trị chỉ có một dimension như là :String, number,..\n",
    "- Tham số b: dùng để get các thông tin keys là value là giá trị có dimensions như là: list, dictionary.\n",
    "- Flow control của function:\n",
    "1. Tạo một dictionary (D1) chỉ lấy những para của tham số a từ original dict.\n",
    "2. Tạo một dictionary (D2) khác để lấy nhứng subdata trong các keys của dict tạo từ B1 với các para từ tham số b.\n",
    "3. Đối với các keys có values là dict hay list trong (D1) sẽ kiểm tra keys đó có trong tham số b không?. Nếu có sẽ get về, còn không thì gán giá trị D1.value() = D2.value()\n",
    "\n",
    "#### Lưu ý:\n",
    "- Vì length của original dict lớn hơn 1 nên sẽ thực hiện vòng lặp. Vì vậy D2 từ vòng lặp 2 trở đi các giá trị ở (D2) phải được append vào keys đã có ở vòng lặp 1. Vì dict không cho trùng key nên sẽ báo lỗi.\n",
    "- Vì dữ liệu ít nên có thể sử dụng function dưới, khi dữ liệu quá nhiều sẽ tốn tài nguyên và thời gian cần optimize nếu gặp trường hợp đó. Nếu ai có ý tưởng optimize có thể liên hệ Quân Nguyễn trong Slack của DATACracy nhé. Cảm ơn.\n"
   ]
  },
  {
   "cell_type": "code",
   "execution_count": 84,
   "metadata": {},
   "outputs": [],
   "source": [
    "## Solution 2\n",
    "def get_user_json(data_farme,a,b):\n",
    "    for i in range(len(data_farme)):\n",
    "        user = {}\n",
    "        for l in a:\n",
    "            user[l] = data_farme[i][l]\n",
    "\n",
    "        if i == 0:\n",
    "            test ={}\n",
    "            for j in user.keys():\n",
    "                if type(user[j]) == dict:\n",
    "                    z = [l for l in user[j].keys()]\n",
    "                    for k in b:\n",
    "                        if k in z:\n",
    "                            test[k] = [user[j][k]]\n",
    "                elif type(user[j]) == list:\n",
    "                    z = [l for l in user[j][len(user[j])-1].keys()]\n",
    "                    for k in z:\n",
    "                        test[k] = [user[j][len(user[j])-1][k]]\n",
    "                else:\n",
    "                    test[j] = [user[j]]\n",
    "        else:\n",
    "            for j in user.keys():\n",
    "                if type(user[j]) == dict:\n",
    "                    z = [l for l in user[j].keys()]\n",
    "                    for k in b:\n",
    "                        if k in z:\n",
    "                            test[k].append(user[j][k])\n",
    "                elif type(user[j]) == list:\n",
    "                    z = [l for l in user[j][len(user[j])-1].keys()]\n",
    "                    for k in z:\n",
    "                        test[k].append(user[j][len(user[j])-1][k])\n",
    "                else:\n",
    "                    test[j].append(user[j])\n",
    "                    \n",
    "    df_user = pd.DataFrame(test)\n",
    "    return df_user\n",
    "        \n",
    "    "
   ]
  },
  {
   "cell_type": "code",
   "execution_count": 68,
   "metadata": {},
   "outputs": [],
   "source": [
    "df_user = get_user_json(a,b)"
   ]
  },
  {
   "cell_type": "code",
   "execution_count": 63,
   "metadata": {},
   "outputs": [],
   "source": [
    "process_time['updated_time_1'] = process_time['updated'].apply(lambda x : pd.Timestamp(x,unit='s'))"
   ]
  },
  {
   "cell_type": "code",
   "execution_count": 71,
   "metadata": {},
   "outputs": [],
   "source": [
    "df_user = pd.merge(df_user, process_time[['id','updated_time_1']], how=\"left\", on=[\"id\"])"
   ]
  },
  {
   "cell_type": "code",
   "execution_count": 72,
   "metadata": {},
   "outputs": [
    {
     "data": {
      "text/html": [
       "<div>\n",
       "<style scoped>\n",
       "    .dataframe tbody tr th:only-of-type {\n",
       "        vertical-align: middle;\n",
       "    }\n",
       "\n",
       "    .dataframe tbody tr th {\n",
       "        vertical-align: top;\n",
       "    }\n",
       "\n",
       "    .dataframe thead th {\n",
       "        text-align: right;\n",
       "    }\n",
       "</style>\n",
       "<table border=\"1\" class=\"dataframe\">\n",
       "  <thead>\n",
       "    <tr style=\"text-align: right;\">\n",
       "      <th></th>\n",
       "      <th>id</th>\n",
       "      <th>name</th>\n",
       "      <th>deleted</th>\n",
       "      <th>title</th>\n",
       "      <th>phone</th>\n",
       "      <th>skype</th>\n",
       "      <th>real_name_normalized</th>\n",
       "      <th>display_name_normalized</th>\n",
       "      <th>is_admin</th>\n",
       "      <th>is_bot</th>\n",
       "      <th>tz</th>\n",
       "      <th>updated</th>\n",
       "      <th>updated_time_1</th>\n",
       "    </tr>\n",
       "  </thead>\n",
       "  <tbody>\n",
       "    <tr>\n",
       "      <th>0</th>\n",
       "      <td>USLACKBOT</td>\n",
       "      <td>slackbot</td>\n",
       "      <td>False</td>\n",
       "      <td></td>\n",
       "      <td></td>\n",
       "      <td></td>\n",
       "      <td>Slackbot</td>\n",
       "      <td>Slackbot</td>\n",
       "      <td>False</td>\n",
       "      <td>False</td>\n",
       "      <td>America/Los_Angeles</td>\n",
       "      <td>0</td>\n",
       "      <td>NaT</td>\n",
       "    </tr>\n",
       "    <tr>\n",
       "      <th>1</th>\n",
       "      <td>U01AT4T75JB</td>\n",
       "      <td>loclexuan26392</td>\n",
       "      <td>False</td>\n",
       "      <td></td>\n",
       "      <td></td>\n",
       "      <td></td>\n",
       "      <td>Loc Le Xuan</td>\n",
       "      <td>Loc Le Xuan</td>\n",
       "      <td>False</td>\n",
       "      <td>False</td>\n",
       "      <td>Asia/Bangkok</td>\n",
       "      <td>1600924572</td>\n",
       "      <td>2020-09-24 05:16:12</td>\n",
       "    </tr>\n",
       "    <tr>\n",
       "      <th>2</th>\n",
       "      <td>U01AVDY7JET</td>\n",
       "      <td>locle.ds</td>\n",
       "      <td>False</td>\n",
       "      <td></td>\n",
       "      <td></td>\n",
       "      <td></td>\n",
       "      <td>Loc Le Xuan</td>\n",
       "      <td>Loc Le Xuan</td>\n",
       "      <td>False</td>\n",
       "      <td>False</td>\n",
       "      <td>Asia/Bangkok</td>\n",
       "      <td>1600943506</td>\n",
       "      <td>2020-09-24 10:31:46</td>\n",
       "    </tr>\n",
       "    <tr>\n",
       "      <th>3</th>\n",
       "      <td>U01BE2PR6LU</td>\n",
       "      <td>maianhdang.ftu</td>\n",
       "      <td>False</td>\n",
       "      <td>Technical Contents</td>\n",
       "      <td></td>\n",
       "      <td></td>\n",
       "      <td>Dặng Huỳnh Mai Anh</td>\n",
       "      <td>MAD</td>\n",
       "      <td>True</td>\n",
       "      <td>False</td>\n",
       "      <td>Asia/Bangkok</td>\n",
       "      <td>1618595000</td>\n",
       "      <td>2021-04-16 17:43:20</td>\n",
       "    </tr>\n",
       "    <tr>\n",
       "      <th>4</th>\n",
       "      <td>U01C48T7S1J</td>\n",
       "      <td>huyenhoang.design</td>\n",
       "      <td>False</td>\n",
       "      <td></td>\n",
       "      <td></td>\n",
       "      <td></td>\n",
       "      <td>Thanh Huyen Hoang</td>\n",
       "      <td>Thanh Huyen Hoang</td>\n",
       "      <td>False</td>\n",
       "      <td>False</td>\n",
       "      <td>Europe/Amsterdam</td>\n",
       "      <td>1601879503</td>\n",
       "      <td>2020-10-05 06:31:43</td>\n",
       "    </tr>\n",
       "    <tr>\n",
       "      <th>...</th>\n",
       "      <td>...</td>\n",
       "      <td>...</td>\n",
       "      <td>...</td>\n",
       "      <td>...</td>\n",
       "      <td>...</td>\n",
       "      <td>...</td>\n",
       "      <td>...</td>\n",
       "      <td>...</td>\n",
       "      <td>...</td>\n",
       "      <td>...</td>\n",
       "      <td>...</td>\n",
       "      <td>...</td>\n",
       "      <td>...</td>\n",
       "    </tr>\n",
       "    <tr>\n",
       "      <th>62</th>\n",
       "      <td>U020P6WPAQJ</td>\n",
       "      <td>thuynh.386</td>\n",
       "      <td>False</td>\n",
       "      <td></td>\n",
       "      <td></td>\n",
       "      <td></td>\n",
       "      <td>Thuy Nguyen</td>\n",
       "      <td></td>\n",
       "      <td>False</td>\n",
       "      <td>False</td>\n",
       "      <td>Asia/Bangkok</td>\n",
       "      <td>1620009844</td>\n",
       "      <td>2021-05-03 02:44:04</td>\n",
       "    </tr>\n",
       "    <tr>\n",
       "      <th>63</th>\n",
       "      <td>U020P877V88</td>\n",
       "      <td>huongntn2202</td>\n",
       "      <td>False</td>\n",
       "      <td></td>\n",
       "      <td></td>\n",
       "      <td></td>\n",
       "      <td>Huong Nguyen Thi Nhi</td>\n",
       "      <td></td>\n",
       "      <td>False</td>\n",
       "      <td>False</td>\n",
       "      <td>Asia/Bangkok</td>\n",
       "      <td>1619409574</td>\n",
       "      <td>2021-04-26 03:59:34</td>\n",
       "    </tr>\n",
       "    <tr>\n",
       "      <th>64</th>\n",
       "      <td>U021TFMH1RU</td>\n",
       "      <td>mquang.151999</td>\n",
       "      <td>False</td>\n",
       "      <td></td>\n",
       "      <td></td>\n",
       "      <td></td>\n",
       "      <td>Quang Nguyen</td>\n",
       "      <td>Quang Nguyen</td>\n",
       "      <td>False</td>\n",
       "      <td>False</td>\n",
       "      <td>Asia/Bangkok</td>\n",
       "      <td>1621046249</td>\n",
       "      <td>2021-05-15 02:37:29</td>\n",
       "    </tr>\n",
       "    <tr>\n",
       "      <th>65</th>\n",
       "      <td>U021Y57RMN1</td>\n",
       "      <td>lamlv723</td>\n",
       "      <td>False</td>\n",
       "      <td></td>\n",
       "      <td></td>\n",
       "      <td></td>\n",
       "      <td>Lam Le</td>\n",
       "      <td>Lam Le</td>\n",
       "      <td>False</td>\n",
       "      <td>False</td>\n",
       "      <td>Asia/Bangkok</td>\n",
       "      <td>1621134074</td>\n",
       "      <td>2021-05-16 03:01:14</td>\n",
       "    </tr>\n",
       "    <tr>\n",
       "      <th>66</th>\n",
       "      <td>U0226MQ73MJ</td>\n",
       "      <td>mad</td>\n",
       "      <td>False</td>\n",
       "      <td></td>\n",
       "      <td></td>\n",
       "      <td></td>\n",
       "      <td>MAD</td>\n",
       "      <td></td>\n",
       "      <td>False</td>\n",
       "      <td>True</td>\n",
       "      <td>America/Los_Angeles</td>\n",
       "      <td>1621074125</td>\n",
       "      <td>2021-05-15 10:22:05</td>\n",
       "    </tr>\n",
       "  </tbody>\n",
       "</table>\n",
       "<p>67 rows × 13 columns</p>\n",
       "</div>"
      ],
      "text/plain": [
       "             id               name  deleted               title phone skype  \\\n",
       "0     USLACKBOT           slackbot    False                                   \n",
       "1   U01AT4T75JB     loclexuan26392    False                                   \n",
       "2   U01AVDY7JET           locle.ds    False                                   \n",
       "3   U01BE2PR6LU     maianhdang.ftu    False  Technical Contents               \n",
       "4   U01C48T7S1J  huyenhoang.design    False                                   \n",
       "..          ...                ...      ...                 ...   ...   ...   \n",
       "62  U020P6WPAQJ         thuynh.386    False                                   \n",
       "63  U020P877V88       huongntn2202    False                                   \n",
       "64  U021TFMH1RU      mquang.151999    False                                   \n",
       "65  U021Y57RMN1           lamlv723    False                                   \n",
       "66  U0226MQ73MJ                mad    False                                   \n",
       "\n",
       "    real_name_normalized display_name_normalized  is_admin  is_bot  \\\n",
       "0               Slackbot                Slackbot     False   False   \n",
       "1            Loc Le Xuan             Loc Le Xuan     False   False   \n",
       "2            Loc Le Xuan             Loc Le Xuan     False   False   \n",
       "3     Dặng Huỳnh Mai Anh                     MAD      True   False   \n",
       "4      Thanh Huyen Hoang       Thanh Huyen Hoang     False   False   \n",
       "..                   ...                     ...       ...     ...   \n",
       "62           Thuy Nguyen                             False   False   \n",
       "63  Huong Nguyen Thi Nhi                             False   False   \n",
       "64          Quang Nguyen            Quang Nguyen     False   False   \n",
       "65                Lam Le                  Lam Le     False   False   \n",
       "66                   MAD                             False    True   \n",
       "\n",
       "                     tz     updated      updated_time_1  \n",
       "0   America/Los_Angeles           0                 NaT  \n",
       "1          Asia/Bangkok  1600924572 2020-09-24 05:16:12  \n",
       "2          Asia/Bangkok  1600943506 2020-09-24 10:31:46  \n",
       "3          Asia/Bangkok  1618595000 2021-04-16 17:43:20  \n",
       "4      Europe/Amsterdam  1601879503 2020-10-05 06:31:43  \n",
       "..                  ...         ...                 ...  \n",
       "62         Asia/Bangkok  1620009844 2021-05-03 02:44:04  \n",
       "63         Asia/Bangkok  1619409574 2021-04-26 03:59:34  \n",
       "64         Asia/Bangkok  1621046249 2021-05-15 02:37:29  \n",
       "65         Asia/Bangkok  1621134074 2021-05-16 03:01:14  \n",
       "66  America/Los_Angeles  1621074125 2021-05-15 10:22:05  \n",
       "\n",
       "[67 rows x 13 columns]"
      ]
     },
     "execution_count": 72,
     "metadata": {},
     "output_type": "execute_result"
    }
   ],
   "source": [
    "df_user"
   ]
  },
  {
   "cell_type": "markdown",
   "metadata": {
    "id": "1TZrcaWZyE07"
   },
   "source": [
    "-------------- HẾT PHẦN BẮT BUỘC ---------------------"
   ]
  },
  {
   "cell_type": "markdown",
   "metadata": {
    "id": "P3_b7zw-1A6s"
   },
   "source": [
    "## Option 1: Update data => Google SpreadSheet"
   ]
  },
  {
   "cell_type": "markdown",
   "metadata": {
    "id": "UPuXhw3WtmWw"
   },
   "source": [
    "### TODO#2\n",
    "Tạo service account (output là file json), file này để cho phép ta access vào Google Spreadsheet:\n",
    "\n",
    "1. Làm theo hướng dẫn: [Google Create a Service Account](https://support.google.com/a/answer/7378726?hl=en)\n",
    "![google_service_account](../img/google_service_account.png)\n",
    "2. Lưu file JSON (chứa credential về máy)\n",
    "![gservice_acc_json](../img/gservice_acc_json.png)\n",
    "3. Nhớ Enable [Google Drive API](https://console.cloud.google.com/marketplace/product/google/drive.googleapis.com?q=search&referrer=search&project=quickstart-313303) (Nếu bạn chạy code báo lỗi chưa enable API thì vào link trong phần lỗi để Enable, sau khi kích hoạt có thể cần vài phút để chạy được)\n",
    "![enable_api](../img/enable_api.png)\n",
    "* ==> Upload file Gsheet Credential JSON nếu bạn dùng Colab \n",
    "* ==> Nếu bạn để key trong repo git, **NHỚ** để file json vào `.gitignore` để không bị leaked key)\n"
   ]
  },
  {
   "cell_type": "code",
   "execution_count": 73,
   "metadata": {
    "colab": {
     "base_uri": "https://localhost:8080/"
    },
    "id": "XhrcVjXWwldS",
    "outputId": "63133330-f68b-4adf-96a1-6d2c0e08dc70"
   },
   "outputs": [
    {
     "name": "stdout",
     "output_type": "stream",
     "text": [
      "env_variable.json\t QuanNguyen-b8bebb09be47.json  response_user_list.json\r\n",
      "home_assignment_3.ipynb  README.md\r\n"
     ]
    }
   ],
   "source": [
    "!ls"
   ]
  },
  {
   "cell_type": "code",
   "execution_count": 243,
   "metadata": {
    "colab": {
     "base_uri": "https://localhost:8080/"
    },
    "id": "4NEQFu-DNvFC",
    "outputId": "a855fe34-b409-4152-a218-67bfa240396f"
   },
   "outputs": [
    {
     "name": "stdout",
     "output_type": "stream",
     "text": [
      "DONE!\n"
     ]
    }
   ],
   "source": [
    "## Authorize bằng JSON\n",
    "scope = ['https://spreadsheets.google.com/feeds',\n",
    "         'https://www.googleapis.com/auth/drive']\n",
    "credentials = ServiceAccountCredentials.from_json_keyfile_name(\n",
    "    'QuanNguyen-b8bebb09be47.json', scope)\n",
    "gc = gspread.authorize(credentials)\n",
    "print(\"DONE!\")"
   ]
  },
  {
   "cell_type": "markdown",
   "metadata": {
    "id": "HELBp0Sdxhzc"
   },
   "source": [
    "**Tạo Spreadsheet**\n",
    "\n",
    "1. Tạo Spreadsheet trên google\n",
    "2. Invite account trong `client_email` (file JSON Gsheet Credential bên trên) vào Spreadsheet (quyền Editor)\n",
    "![enable_api](../img/enable_api.png)\n",
    "3. Lấy `SPREADSHEET_KEY` (nằm trong chính URL của Spreadhstee): `https://docs.google.com/spreadsheets/d/<SPREADSHEET_KEY>/edit#gid=0`\n",
    "\n",
    "![add_gsheet](../img/add_gsheet.png)"
   ]
  },
  {
   "cell_type": "code",
   "execution_count": 78,
   "metadata": {
    "id": "XlZ8JNB3bZbw"
   },
   "outputs": [],
   "source": [
    "# ACCES GOOGLE SHEET\n",
    "sheet_index_no = 0\n",
    "spreadsheet_key = '1mQJRxLHzDPwpP_BAaCdtQGnP_f9ItcNg_dWaMmKs5eA' # input SPREADSHEET_KEY HERE\n",
    "sh = gc.open_by_key(spreadsheet_key)\n",
    "worksheet = sh.get_worksheet(sheet_index_no) #-> 0 - first sheet, 1 - second sheet etc. \n",
    "\n",
    "# APPEND DATA TO SHEET\n",
    "set_with_dataframe(worksheet, df_user) #-> Upload user_df vào Sheet đầu tiên trong Spreadsheet\n",
    "\n",
    "# DONE: Bây giờ bạn có thể mở spreadsheet và kiểm tra nội dung đã update chứ"
   ]
  },
  {
   "cell_type": "markdown",
   "metadata": {},
   "source": [
    "#### Link Google Sheet:\n",
    "https://docs.google.com/spreadsheets/d/1mQJRxLHzDPwpP_BAaCdtQGnP_f9ItcNg_dWaMmKs5eA/edit#gid=0"
   ]
  },
  {
   "cell_type": "markdown",
   "metadata": {},
   "source": [
    "![slack_user_gsheet](../img/slack_user_gsheet.png)"
   ]
  },
  {
   "cell_type": "markdown",
   "metadata": {
    "id": "5I15m3ilyA3Y"
   },
   "source": [
    "-------------- HẾT PHẦN OPTION 1 ---------------------"
   ]
  },
  {
   "cell_type": "markdown",
   "metadata": {
    "id": "9aRN9KSczkmr"
   },
   "source": [
    "## Option 2: Ai đã nộp bài?\n"
   ]
  },
  {
   "cell_type": "markdown",
   "metadata": {
    "id": "Pw81ioUz2N0v"
   },
   "source": [
    "### Slack API: Channel List"
   ]
  },
  {
   "cell_type": "code",
   "execution_count": 79,
   "metadata": {
    "id": "fcdaDaGdz60p"
   },
   "outputs": [],
   "source": [
    "## Gọi SLACK API để list tất cả các channel\n",
    "endpoint = \"https://slack.com/api/conversations.list\"\n",
    "headers = {\"Authorization\": \"Bearer {}\".format(os.environ['SLACK_BEARER_TOKEN'])}\n",
    "response = requests.post(endpoint, headers=headers).json() \n",
    "channel_ls = response['channels']"
   ]
  },
  {
   "cell_type": "code",
   "execution_count": 80,
   "metadata": {
    "colab": {
     "base_uri": "https://localhost:8080/"
    },
    "id": "47dUJAPi0Jg5",
    "outputId": "2762f1e8-ff65-4994-c3e5-1ab0f5dc9205"
   },
   "outputs": [
    {
     "data": {
      "text/plain": [
       "{'id': 'C01B4PVGLVB',\n",
       " 'name': 'general',\n",
       " 'is_channel': True,\n",
       " 'is_group': False,\n",
       " 'is_im': False,\n",
       " 'created': 1600856703,\n",
       " 'is_archived': False,\n",
       " 'is_general': True,\n",
       " 'unlinked': 0,\n",
       " 'name_normalized': 'general',\n",
       " 'is_shared': False,\n",
       " 'parent_conversation': None,\n",
       " 'creator': 'U01BE2PR6LU',\n",
       " 'is_ext_shared': False,\n",
       " 'is_org_shared': False,\n",
       " 'shared_team_ids': ['T01B7SGGMLJ'],\n",
       " 'pending_shared': [],\n",
       " 'pending_connected_team_ids': [],\n",
       " 'is_pending_ext_shared': False,\n",
       " 'is_member': False,\n",
       " 'is_private': False,\n",
       " 'is_mpim': False,\n",
       " 'topic': {'value': '', 'creator': '', 'last_set': 0},\n",
       " 'purpose': {'value': 'This is the one channel that will always include everyone. It’s a great spot for announcements and team-wide conversations.',\n",
       "  'creator': 'U01BE2PR6LU',\n",
       "  'last_set': 1600856703},\n",
       " 'previous_names': [],\n",
       " 'num_members': 63}"
      ]
     },
     "execution_count": 80,
     "metadata": {},
     "output_type": "execute_result"
    }
   ],
   "source": [
    "channel_ls[0] ## Thử extract record đầu tiên để xem schema  => name: general, id: C01B4PVGLVB"
   ]
  },
  {
   "cell_type": "code",
   "execution_count": 87,
   "metadata": {},
   "outputs": [],
   "source": [
    "atom_assignment = get_user_json(channel_ls,['id','name_normalized','purpose','num_members'],['creator','last_set'])"
   ]
  },
  {
   "cell_type": "markdown",
   "metadata": {
    "id": "CNFTcFC00l8g"
   },
   "source": [
    "### TODO#3 \n",
    "* Tìm id của channel #atom-assignment2"
   ]
  },
  {
   "cell_type": "code",
   "execution_count": 107,
   "metadata": {},
   "outputs": [
    {
     "data": {
      "text/html": [
       "<div>\n",
       "<style scoped>\n",
       "    .dataframe tbody tr th:only-of-type {\n",
       "        vertical-align: middle;\n",
       "    }\n",
       "\n",
       "    .dataframe tbody tr th {\n",
       "        vertical-align: top;\n",
       "    }\n",
       "\n",
       "    .dataframe thead th {\n",
       "        text-align: right;\n",
       "    }\n",
       "</style>\n",
       "<table border=\"1\" class=\"dataframe\">\n",
       "  <thead>\n",
       "    <tr style=\"text-align: right;\">\n",
       "      <th></th>\n",
       "      <th>id</th>\n",
       "      <th>name_normalized</th>\n",
       "      <th>creator</th>\n",
       "      <th>last_set</th>\n",
       "      <th>num_members</th>\n",
       "    </tr>\n",
       "  </thead>\n",
       "  <tbody>\n",
       "    <tr>\n",
       "      <th>9</th>\n",
       "      <td>C021FSDN7LJ</td>\n",
       "      <td>atom-assignment2</td>\n",
       "      <td>U01BE2PR6LU</td>\n",
       "      <td>1621074519</td>\n",
       "      <td>38</td>\n",
       "    </tr>\n",
       "  </tbody>\n",
       "</table>\n",
       "</div>"
      ],
      "text/plain": [
       "            id   name_normalized      creator    last_set  num_members\n",
       "9  C021FSDN7LJ  atom-assignment2  U01BE2PR6LU  1621074519           38"
      ]
     },
     "execution_count": 107,
     "metadata": {},
     "output_type": "execute_result"
    }
   ],
   "source": [
    "atom_assignment[atom_assignment.name_normalized == 'atom-assignment2']"
   ]
  },
  {
   "cell_type": "markdown",
   "metadata": {
    "id": "EnCvdYAn2R47"
   },
   "source": [
    "### Slack API: List messages trong 1 channel"
   ]
  },
  {
   "cell_type": "code",
   "execution_count": 5,
   "metadata": {
    "id": "1UsSESN8rtnk"
   },
   "outputs": [],
   "source": [
    "endpoint = \"https://slack.com/api/conversations.history\"\n",
    "data = {\"channel\": \"C021FSDN7LJ\"} ## This is ID of assignment#1 channel\n",
    "headers = {\"Authorization\": \"Bearer {}\".format(os.environ['SLACK_BEARER_TOKEN'])}"
   ]
  },
  {
   "cell_type": "code",
   "execution_count": 6,
   "metadata": {
    "id": "i8eJw3LBr4lY"
   },
   "outputs": [],
   "source": [
    "response_json = requests.post(endpoint, data=data, headers=headers).json()\n",
    "msg_ls = response_json['messages']"
   ]
  },
  {
   "cell_type": "code",
   "execution_count": 133,
   "metadata": {
    "colab": {
     "base_uri": "https://localhost:8080/"
    },
    "id": "KkYO1KcBtZa9",
    "outputId": "7a76397b-202b-445e-aa26-f4b30cfc9a53",
    "scrolled": true
   },
   "outputs": [
    {
     "data": {
      "text/plain": [
       "{'client_msg_id': '811e1cc8-9a7a-4e2d-81dc-906eae8e8f3a',\n",
       " 'type': 'message',\n",
       " 'text': 'Chào mọi ngườii,\\nem gửi assignment 2 ạ:\\n<https://github.com/tinyvyy/atom-assignments/blob/main/ATOM_Home_Assignment_2.ipynb>',\n",
       " 'user': 'U01UMBZHU2W',\n",
       " 'ts': '1621044778.004500',\n",
       " 'team': 'T01B7SGGMLJ',\n",
       " 'blocks': [{'type': 'rich_text',\n",
       "   'block_id': 'qjR',\n",
       "   'elements': [{'type': 'rich_text_section',\n",
       "     'elements': [{'type': 'text',\n",
       "       'text': 'Chào mọi ngườii,\\nem gửi assignment 2 ạ:\\n'},\n",
       "      {'type': 'link',\n",
       "       'url': 'https://github.com/tinyvyy/atom-assignments/blob/main/ATOM_Home_Assignment_2.ipynb'}]}]}],\n",
       " 'thread_ts': '1621044778.004500',\n",
       " 'reply_count': 2,\n",
       " 'reply_users_count': 2,\n",
       " 'latest_reply': '1621167586.003100',\n",
       " 'reply_users': ['U01V00KHHHP', 'U01UMBZHU2W'],\n",
       " 'is_locked': False,\n",
       " 'subscribed': False,\n",
       " 'reactions': [{'name': 'white_check_mark',\n",
       "   'users': ['U01V00KHHHP'],\n",
       "   'count': 1}]}"
      ]
     },
     "execution_count": 133,
     "metadata": {},
     "output_type": "execute_result"
    }
   ],
   "source": [
    "msg_ls[6]"
   ]
  },
  {
   "cell_type": "code",
   "execution_count": 89,
   "metadata": {
    "id": "BsW8CXAXv-tC"
   },
   "outputs": [],
   "source": [
    "not_learners_id = ['U01BE2PR6LU']"
   ]
  },
  {
   "cell_type": "code",
   "execution_count": 72,
   "metadata": {
    "colab": {
     "base_uri": "https://localhost:8080/"
    },
    "id": "XOvJ5kGCsmAD",
    "outputId": "79567aaf-62bd-4091-deca-6e13c1c80e79"
   },
   "outputs": [
    {
     "name": "stdout",
     "output_type": "stream",
     "text": [
      "2021-05-10 04:51:46.004700 U01UJ9LG5U5 2 ['U01USGKQ771', 'U01V00KHHHP'] 2021-05-15 09:14:31.003600 https://github.com/danhpcv/\n",
      "2021-05-10 04:35:39.003800 U01UMC08KL2 2 ['U01USGKQ771', 'U01V00KHHHP'] 2021-05-15 09:14:31.003600 https://github.com/auslynnguyen/\n",
      "2021-05-08 06:31:59.005200 U01UMJ36QD9 1 ['U01UMBX2X18'] 2021-05-08 06:36:43.006000 https://github.com/auslynnguyen/\n",
      "2021-05-04 13:55:46.001800 U01UTGVPE7N 1 ['U01UMBX2X18'] 2021-05-08 06:36:43.006000 https://github.com/hoaintp/\n",
      "2021-05-03 17:41:18.002400 U01U6JQB695 2 ['U01UMC0N5U2', 'U01U6JQB695'] 2021-05-11 03:10:06.001300 https://github.com/Tenderriver/\n",
      "2021-05-03 08:51:19.001200 U01V00KHHHP 1 ['U01UMBZHU2W'] 2021-05-14 17:51:26.024600 https://github.com/saturn1101/\n",
      "2021-04-26 06:53:56.000800 U01UMBZHU2W 2 ['U01UMJ451V1', 'U01UMBZHU2W'] 2021-05-14 17:52:35.025100 https://github.com/saturn1101/\n",
      "2021-04-24 02:01:27.043200 U01VB63LRNC 1 ['U01UMJ451V1'] 2021-05-11 12:37:14.003100 https://github.com/AnhThuNguyenHuynh/\n"
     ]
    }
   ],
   "source": [
    "## Summarize all submitted assignments + reviews cnt\n",
    "not_learners_id = ['U01BE2PR6LU'] # -> Remove MA from the user_id\n",
    "github, reply_count, reply_users_count, reply_users, latest_reply = '','','','',''\n",
    "for i in range(20):\n",
    "  ts = dt.fromtimestamp(float(msg_ls[i]['ts'])) # -> Convert timestamp Epoch thành dàng dễ đọc\n",
    "  user = msg_ls[i]['user'] # -> Lấy thông tin người post messages\n",
    "  if msg_ls[i]['user'] not in not_learners_id:\n",
    "    if 'attachments' in msg_ls[i].keys():\n",
    "      #print(msg_ls[i].keys())\n",
    "      text = msg_ls[i]['text']\n",
    "      github_link = re.findall('(?:https?://)?(?:www[.])?github[.]com/[\\w-]+/?', text) #-> Submission là các message có link github\n",
    "      #print(msg_ls[i])\n",
    "      if len(github_link) > 0: github = github_link[0]\n",
    "      if 'reply_count' in msg_ls[i].keys(): reply_count = msg_ls[i]['reply_count'] #-> Extract số review\n",
    "      if 'reply_users_count' in msg_ls[i].keys(): reply_users_count = msg_ls[i]['reply_users_count']\n",
    "      if 'reply_users' in msg_ls[i].keys(): reply_users = msg_ls[i]['reply_users']\n",
    "      if 'latest_reply' in msg_ls[i].keys(): latest_reply = dt.fromtimestamp(float(msg_ls[i]['latest_reply']))\n",
    "      print(ts, user, reply_users_count, reply_users, latest_reply, github)"
   ]
  },
  {
   "cell_type": "code",
   "execution_count": 134,
   "metadata": {},
   "outputs": [
    {
     "name": "stdout",
     "output_type": "stream",
     "text": [
      "user text ts reply_count reply_users_count latest_reply\n"
     ]
    }
   ],
   "source": [
    "keys = list(map(str, input().rstrip().split()))#user text ts reply_count reply_users_count latest_reply \n",
    "#subkeys = list(map(str, input().rstrip().split()))#title phone skype real_name_normalized display_name_normalized"
   ]
  },
  {
   "cell_type": "code",
   "execution_count": 229,
   "metadata": {},
   "outputs": [],
   "source": [
    "def get_info_assign(data,keys,assign_to):\n",
    "    assign ={}\n",
    "    assign['assign_num'] = [assign_to]\n",
    "    for i in keys:\n",
    "        if i in data.keys() and i =='reply_users':\n",
    "            assign[i] = data[i]\n",
    "        elif i in data.keys() and i =='text':\n",
    "            index1 = data[i].index('<')\n",
    "            index2 = data[i].index('>')\n",
    "            github_link = data[i][index1+1:index2]\n",
    "            assign[i] = [github_link]\n",
    "        elif i in data.keys():\n",
    "            assign[i] = [data[i]]\n",
    "        else:\n",
    "            assign[i] = ''\n",
    "    df_assign   = pd.DataFrame(assign)\n",
    "    return df_assign\n",
    "        \n",
    "        \n",
    "        "
   ]
  },
  {
   "cell_type": "code",
   "execution_count": 230,
   "metadata": {},
   "outputs": [
    {
     "data": {
      "text/html": [
       "<div>\n",
       "<style scoped>\n",
       "    .dataframe tbody tr th:only-of-type {\n",
       "        vertical-align: middle;\n",
       "    }\n",
       "\n",
       "    .dataframe tbody tr th {\n",
       "        vertical-align: top;\n",
       "    }\n",
       "\n",
       "    .dataframe thead th {\n",
       "        text-align: right;\n",
       "    }\n",
       "</style>\n",
       "<table border=\"1\" class=\"dataframe\">\n",
       "  <thead>\n",
       "    <tr style=\"text-align: right;\">\n",
       "      <th></th>\n",
       "      <th>assign_num</th>\n",
       "      <th>user</th>\n",
       "      <th>text</th>\n",
       "      <th>ts</th>\n",
       "      <th>reply_count</th>\n",
       "      <th>reply_users_count</th>\n",
       "      <th>latest_reply</th>\n",
       "    </tr>\n",
       "  </thead>\n",
       "  <tbody>\n",
       "    <tr>\n",
       "      <th>0</th>\n",
       "      <td>assignment_2</td>\n",
       "      <td>U01UTGRMGEQ</td>\n",
       "      <td>https://github.com/nguyenhonghanh2511/datacrac...</td>\n",
       "      <td>1621211298.005500</td>\n",
       "      <td></td>\n",
       "      <td></td>\n",
       "      <td></td>\n",
       "    </tr>\n",
       "    <tr>\n",
       "      <th>1</th>\n",
       "      <td>assignment_2</td>\n",
       "      <td>U01V00KHHHP</td>\n",
       "      <td>https://github.com/saturn1101/atom-assignments...</td>\n",
       "      <td>1621115007.006100</td>\n",
       "      <td></td>\n",
       "      <td></td>\n",
       "      <td></td>\n",
       "    </tr>\n",
       "    <tr>\n",
       "      <th>2</th>\n",
       "      <td>assignment_2</td>\n",
       "      <td>U01UMBZHU2W</td>\n",
       "      <td>https://github.com/tinyvyy/atom-assignments/bl...</td>\n",
       "      <td>1621044778.004500</td>\n",
       "      <td>2</td>\n",
       "      <td>2</td>\n",
       "      <td>1621167586.003100</td>\n",
       "    </tr>\n",
       "    <tr>\n",
       "      <th>3</th>\n",
       "      <td>assignment_2</td>\n",
       "      <td>U01UJ9M3P1T</td>\n",
       "      <td>https://github.com/cnhhoang850/atom-assignments</td>\n",
       "      <td>1621044117.003500</td>\n",
       "      <td></td>\n",
       "      <td></td>\n",
       "      <td></td>\n",
       "    </tr>\n",
       "    <tr>\n",
       "      <th>4</th>\n",
       "      <td>assignment_2</td>\n",
       "      <td>U01UJ9LG5U5</td>\n",
       "      <td>https://github.com/danhpcv/atom-assignments/tr...</td>\n",
       "      <td>1621043199.002700</td>\n",
       "      <td></td>\n",
       "      <td></td>\n",
       "      <td></td>\n",
       "    </tr>\n",
       "  </tbody>\n",
       "</table>\n",
       "</div>"
      ],
      "text/plain": [
       "     assign_num         user  \\\n",
       "0  assignment_2  U01UTGRMGEQ   \n",
       "1  assignment_2  U01V00KHHHP   \n",
       "2  assignment_2  U01UMBZHU2W   \n",
       "3  assignment_2  U01UJ9M3P1T   \n",
       "4  assignment_2  U01UJ9LG5U5   \n",
       "\n",
       "                                                text                 ts  \\\n",
       "0  https://github.com/nguyenhonghanh2511/datacrac...  1621211298.005500   \n",
       "1  https://github.com/saturn1101/atom-assignments...  1621115007.006100   \n",
       "2  https://github.com/tinyvyy/atom-assignments/bl...  1621044778.004500   \n",
       "3    https://github.com/cnhhoang850/atom-assignments  1621044117.003500   \n",
       "4  https://github.com/danhpcv/atom-assignments/tr...  1621043199.002700   \n",
       "\n",
       "  reply_count reply_users_count       latest_reply  \n",
       "0                                                   \n",
       "1                                                   \n",
       "2           2                 2  1621167586.003100  \n",
       "3                                                   \n",
       "4                                                   "
      ]
     },
     "execution_count": 230,
     "metadata": {},
     "output_type": "execute_result"
    }
   ],
   "source": [
    "list_1 = []\n",
    "for i in range(len(msg_ls)):\n",
    "    if msg_ls[i]['user'] != not_learners_id and '://' in msg_ls[i]['text'] :\n",
    "        text = msg_ls[i]['text']\n",
    "        index3 = msg_ls[i]['text'].index('://')\n",
    "        link = text[index3+3:index3+9]\n",
    "        if link == 'github':\n",
    "            result = get_info_assign(msg_ls[i],keys,'assignment_2')\n",
    "            list_1.append(result)\n",
    "df_assign = pd.concat(list_1,ignore_index=True)\n",
    "df_assign.head(5)"
   ]
  },
  {
   "cell_type": "code",
   "execution_count": 231,
   "metadata": {},
   "outputs": [],
   "source": [
    "df_assign['ts_time'] =df_assign['ts'].apply(lambda x : dt.fromtimestamp(float(x)))\n",
    "df_assign['latest_reply_time'] =df_assign['latest_reply'].apply(lambda x : 'NULL' if x == '' else\n",
    "                                                                dt.fromtimestamp(float(x)))\n",
    "df_assign.drop(['ts', 'latest_reply'], axis='columns', inplace=True)"
   ]
  },
  {
   "cell_type": "code",
   "execution_count": 233,
   "metadata": {},
   "outputs": [],
   "source": [
    "df_assign['ts_time']= pd.to_datetime(df_assign['ts_time'])\n",
    "df_assign['latest_reply_time']= df_assign['latest_reply_time'].apply(lambda x : 'NULL' if x == 'NULL'\n",
    "                                                                    else pd.to_datetime(x))"
   ]
  },
  {
   "cell_type": "code",
   "execution_count": 234,
   "metadata": {},
   "outputs": [
    {
     "data": {
      "text/html": [
       "<div>\n",
       "<style scoped>\n",
       "    .dataframe tbody tr th:only-of-type {\n",
       "        vertical-align: middle;\n",
       "    }\n",
       "\n",
       "    .dataframe tbody tr th {\n",
       "        vertical-align: top;\n",
       "    }\n",
       "\n",
       "    .dataframe thead th {\n",
       "        text-align: right;\n",
       "    }\n",
       "</style>\n",
       "<table border=\"1\" class=\"dataframe\">\n",
       "  <thead>\n",
       "    <tr style=\"text-align: right;\">\n",
       "      <th></th>\n",
       "      <th>assign_num</th>\n",
       "      <th>user</th>\n",
       "      <th>text</th>\n",
       "      <th>reply_count</th>\n",
       "      <th>reply_users_count</th>\n",
       "      <th>ts_time</th>\n",
       "      <th>latest_reply_time</th>\n",
       "    </tr>\n",
       "  </thead>\n",
       "  <tbody>\n",
       "    <tr>\n",
       "      <th>0</th>\n",
       "      <td>assignment_2</td>\n",
       "      <td>U01UTGRMGEQ</td>\n",
       "      <td>https://github.com/nguyenhonghanh2511/datacrac...</td>\n",
       "      <td></td>\n",
       "      <td></td>\n",
       "      <td>2021-05-17 07:28:18.005500</td>\n",
       "      <td>NULL</td>\n",
       "    </tr>\n",
       "    <tr>\n",
       "      <th>1</th>\n",
       "      <td>assignment_2</td>\n",
       "      <td>U01V00KHHHP</td>\n",
       "      <td>https://github.com/saturn1101/atom-assignments...</td>\n",
       "      <td></td>\n",
       "      <td></td>\n",
       "      <td>2021-05-16 04:43:27.006100</td>\n",
       "      <td>NULL</td>\n",
       "    </tr>\n",
       "    <tr>\n",
       "      <th>2</th>\n",
       "      <td>assignment_2</td>\n",
       "      <td>U01UMBZHU2W</td>\n",
       "      <td>https://github.com/tinyvyy/atom-assignments/bl...</td>\n",
       "      <td>2</td>\n",
       "      <td>2</td>\n",
       "      <td>2021-05-15 09:12:58.004500</td>\n",
       "      <td>2021-05-16 19:19:46.003100</td>\n",
       "    </tr>\n",
       "    <tr>\n",
       "      <th>3</th>\n",
       "      <td>assignment_2</td>\n",
       "      <td>U01UJ9M3P1T</td>\n",
       "      <td>https://github.com/cnhhoang850/atom-assignments</td>\n",
       "      <td></td>\n",
       "      <td></td>\n",
       "      <td>2021-05-15 09:01:57.003500</td>\n",
       "      <td>NULL</td>\n",
       "    </tr>\n",
       "    <tr>\n",
       "      <th>4</th>\n",
       "      <td>assignment_2</td>\n",
       "      <td>U01UJ9LG5U5</td>\n",
       "      <td>https://github.com/danhpcv/atom-assignments/tr...</td>\n",
       "      <td></td>\n",
       "      <td></td>\n",
       "      <td>2021-05-15 08:46:39.002700</td>\n",
       "      <td>NULL</td>\n",
       "    </tr>\n",
       "  </tbody>\n",
       "</table>\n",
       "</div>"
      ],
      "text/plain": [
       "     assign_num         user  \\\n",
       "0  assignment_2  U01UTGRMGEQ   \n",
       "1  assignment_2  U01V00KHHHP   \n",
       "2  assignment_2  U01UMBZHU2W   \n",
       "3  assignment_2  U01UJ9M3P1T   \n",
       "4  assignment_2  U01UJ9LG5U5   \n",
       "\n",
       "                                                text reply_count  \\\n",
       "0  https://github.com/nguyenhonghanh2511/datacrac...               \n",
       "1  https://github.com/saturn1101/atom-assignments...               \n",
       "2  https://github.com/tinyvyy/atom-assignments/bl...           2   \n",
       "3    https://github.com/cnhhoang850/atom-assignments               \n",
       "4  https://github.com/danhpcv/atom-assignments/tr...               \n",
       "\n",
       "  reply_users_count                    ts_time           latest_reply_time  \n",
       "0                   2021-05-17 07:28:18.005500                        NULL  \n",
       "1                   2021-05-16 04:43:27.006100                        NULL  \n",
       "2                 2 2021-05-15 09:12:58.004500  2021-05-16 19:19:46.003100  \n",
       "3                   2021-05-15 09:01:57.003500                        NULL  \n",
       "4                   2021-05-15 08:46:39.002700                        NULL  "
      ]
     },
     "execution_count": 234,
     "metadata": {},
     "output_type": "execute_result"
    }
   ],
   "source": [
    "df_assign.head(5)"
   ]
  },
  {
   "cell_type": "code",
   "execution_count": 235,
   "metadata": {},
   "outputs": [],
   "source": [
    "df_assign['year_submission'] = df_assign.ts_time.dt.year\n",
    "df_assign['month_submission'] = df_assign.ts_time.dt.month\n",
    "df_assign['day_submission'] = df_assign.ts_time.dt.day\n",
    "df_assign['hour_submission'] = df_assign.ts_time.dt.hour"
   ]
  },
  {
   "cell_type": "code",
   "execution_count": 257,
   "metadata": {},
   "outputs": [
    {
     "data": {
      "text/html": [
       "<div>\n",
       "<style scoped>\n",
       "    .dataframe tbody tr th:only-of-type {\n",
       "        vertical-align: middle;\n",
       "    }\n",
       "\n",
       "    .dataframe tbody tr th {\n",
       "        vertical-align: top;\n",
       "    }\n",
       "\n",
       "    .dataframe thead th {\n",
       "        text-align: right;\n",
       "    }\n",
       "</style>\n",
       "<table border=\"1\" class=\"dataframe\">\n",
       "  <thead>\n",
       "    <tr style=\"text-align: right;\">\n",
       "      <th></th>\n",
       "      <th>assign_num</th>\n",
       "      <th>user</th>\n",
       "      <th>text</th>\n",
       "      <th>reply_count</th>\n",
       "      <th>reply_users_count</th>\n",
       "      <th>ts_time</th>\n",
       "      <th>latest_reply_time</th>\n",
       "      <th>year_submission</th>\n",
       "      <th>month_submission</th>\n",
       "      <th>day_submission</th>\n",
       "      <th>hour_submission</th>\n",
       "    </tr>\n",
       "  </thead>\n",
       "  <tbody>\n",
       "    <tr>\n",
       "      <th>0</th>\n",
       "      <td>assignment_2</td>\n",
       "      <td>U01UTGRMGEQ</td>\n",
       "      <td>https://github.com/nguyenhonghanh2511/datacrac...</td>\n",
       "      <td></td>\n",
       "      <td></td>\n",
       "      <td>2021-05-17 07:28:18.005500</td>\n",
       "      <td>NULL</td>\n",
       "      <td>2021</td>\n",
       "      <td>5</td>\n",
       "      <td>17</td>\n",
       "      <td>7</td>\n",
       "    </tr>\n",
       "    <tr>\n",
       "      <th>1</th>\n",
       "      <td>assignment_2</td>\n",
       "      <td>U01V00KHHHP</td>\n",
       "      <td>https://github.com/saturn1101/atom-assignments...</td>\n",
       "      <td></td>\n",
       "      <td></td>\n",
       "      <td>2021-05-16 04:43:27.006100</td>\n",
       "      <td>NULL</td>\n",
       "      <td>2021</td>\n",
       "      <td>5</td>\n",
       "      <td>16</td>\n",
       "      <td>4</td>\n",
       "    </tr>\n",
       "    <tr>\n",
       "      <th>2</th>\n",
       "      <td>assignment_2</td>\n",
       "      <td>U01UMBZHU2W</td>\n",
       "      <td>https://github.com/tinyvyy/atom-assignments/bl...</td>\n",
       "      <td>2</td>\n",
       "      <td>2</td>\n",
       "      <td>2021-05-15 09:12:58.004500</td>\n",
       "      <td>2021-05-16 19:19:46.003100</td>\n",
       "      <td>2021</td>\n",
       "      <td>5</td>\n",
       "      <td>15</td>\n",
       "      <td>9</td>\n",
       "    </tr>\n",
       "    <tr>\n",
       "      <th>3</th>\n",
       "      <td>assignment_2</td>\n",
       "      <td>U01UJ9M3P1T</td>\n",
       "      <td>https://github.com/cnhhoang850/atom-assignments</td>\n",
       "      <td></td>\n",
       "      <td></td>\n",
       "      <td>2021-05-15 09:01:57.003500</td>\n",
       "      <td>NULL</td>\n",
       "      <td>2021</td>\n",
       "      <td>5</td>\n",
       "      <td>15</td>\n",
       "      <td>9</td>\n",
       "    </tr>\n",
       "    <tr>\n",
       "      <th>4</th>\n",
       "      <td>assignment_2</td>\n",
       "      <td>U01UJ9LG5U5</td>\n",
       "      <td>https://github.com/danhpcv/atom-assignments/tr...</td>\n",
       "      <td></td>\n",
       "      <td></td>\n",
       "      <td>2021-05-15 08:46:39.002700</td>\n",
       "      <td>NULL</td>\n",
       "      <td>2021</td>\n",
       "      <td>5</td>\n",
       "      <td>15</td>\n",
       "      <td>8</td>\n",
       "    </tr>\n",
       "  </tbody>\n",
       "</table>\n",
       "</div>"
      ],
      "text/plain": [
       "     assign_num         user  \\\n",
       "0  assignment_2  U01UTGRMGEQ   \n",
       "1  assignment_2  U01V00KHHHP   \n",
       "2  assignment_2  U01UMBZHU2W   \n",
       "3  assignment_2  U01UJ9M3P1T   \n",
       "4  assignment_2  U01UJ9LG5U5   \n",
       "\n",
       "                                                text reply_count  \\\n",
       "0  https://github.com/nguyenhonghanh2511/datacrac...               \n",
       "1  https://github.com/saturn1101/atom-assignments...               \n",
       "2  https://github.com/tinyvyy/atom-assignments/bl...           2   \n",
       "3    https://github.com/cnhhoang850/atom-assignments               \n",
       "4  https://github.com/danhpcv/atom-assignments/tr...               \n",
       "\n",
       "  reply_users_count                    ts_time           latest_reply_time  \\\n",
       "0                   2021-05-17 07:28:18.005500                        NULL   \n",
       "1                   2021-05-16 04:43:27.006100                        NULL   \n",
       "2                 2 2021-05-15 09:12:58.004500  2021-05-16 19:19:46.003100   \n",
       "3                   2021-05-15 09:01:57.003500                        NULL   \n",
       "4                   2021-05-15 08:46:39.002700                        NULL   \n",
       "\n",
       "   year_submission  month_submission  day_submission  hour_submission  \n",
       "0             2021                 5              17                7  \n",
       "1             2021                 5              16                4  \n",
       "2             2021                 5              15                9  \n",
       "3             2021                 5              15                9  \n",
       "4             2021                 5              15                8  "
      ]
     },
     "execution_count": 257,
     "metadata": {},
     "output_type": "execute_result"
    }
   ],
   "source": [
    "df_assign.head(5)"
   ]
  },
  {
   "cell_type": "markdown",
   "metadata": {
    "id": "SgSC21qO3kKA"
   },
   "source": [
    "### TODO#4\n",
    "* Tạo thành 1 bảng chứa các thông tin trên và update lên Spreadsheet (Sheet: Assignment#2 Submission)"
   ]
  },
  {
   "cell_type": "code",
   "execution_count": 255,
   "metadata": {},
   "outputs": [],
   "source": [
    "sheet_index_no = 1\n",
    "spreadsheet_key = '1mQJRxLHzDPwpP_BAaCdtQGnP_f9ItcNg_dWaMmKs5eA' # input SPREADSHEET_KEY HERE\n",
    "sh = gc.open_by_key(spreadsheet_key)\n",
    "worksheet = sh.get_worksheet(sheet_index_no) #-> 0 - first sheet, 1 - second sheet etc. \n",
    "\n",
    "# APPEND DATA TO SHEET\n",
    "set_with_dataframe(worksheet, df_assign) #-> Upload user_df vào Sheet đầu tiên trong Spreadsheet\n",
    "\n",
    "# DONE: Bây giờ bạn có thể mở spreadsheet và kiểm tra nội dung đã update chứ"
   ]
  },
  {
   "cell_type": "markdown",
   "metadata": {},
   "source": [
    "#### Link Google Sheet:\n",
    "\n",
    "https://docs.google.com/spreadsheets/d/1mQJRxLHzDPwpP_BAaCdtQGnP_f9ItcNg_dWaMmKs5eA/edit#gid=0"
   ]
  },
  {
   "cell_type": "markdown",
   "metadata": {
    "id": "698exK3k35RM"
   },
   "source": [
    "-------------- HẾT PHẦN OPTION 2 ---------------------"
   ]
  }
 ],
 "metadata": {
  "colab": {
   "collapsed_sections": [],
   "name": "Slack-Data.ipynb",
   "provenance": []
  },
  "kernelspec": {
   "display_name": "Python 3",
   "language": "python",
   "name": "python3"
  },
  "language_info": {
   "codemirror_mode": {
    "name": "ipython",
    "version": 3
   },
   "file_extension": ".py",
   "mimetype": "text/x-python",
   "name": "python",
   "nbconvert_exporter": "python",
   "pygments_lexer": "ipython3",
   "version": "3.7.9"
  }
 },
 "nbformat": 4,
 "nbformat_minor": 1
}
