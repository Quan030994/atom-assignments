{
 "cells": [
  {
   "cell_type": "markdown",
   "metadata": {
    "id": "sQ8jh5aiy8zo"
   },
   "source": [
    "# HOME ASSIGNMENT #6: CLOUD FUNCTION & STREAMLIT\n",
    "\n",
    "**Mục đích của bài Assignment**\n",
    "> *  [Optional] Data Deploy Cloud Function \n",
    "> *  Tạo Data Apps với Streamlit\n",
    "> *  Thao tác với data bằng Pandas\n",
    "> *  Data Visualization\n",
    "\n",
    "**Các kiến thức áp dụng**\n",
    "* Slack API, JSON to DataFrame\n",
    "* GCP Cloud Function\n",
    "* Streamlit\n",
    "* Python Pandas\n",
    "* Python Data Visualization\n",
    "\n",
    "**Lời Khuyên**\n",
    "* Các bạn dành thời gian ôn lại và xâu chuỗi kiến thức\n",
    "* Review Assignment 1-5 cho ít nhất 2 bạn học viên khác"
   ]
  },
  {
   "cell_type": "code",
   "execution_count": 13,
   "metadata": {},
   "outputs": [
    {
     "name": "stdout",
     "output_type": "stream",
     "text": [
      "LICENSE            \u001b[34massignment_4\u001b[m\u001b[m       env_variable.json  \u001b[34mstreamlit\u001b[m\u001b[m\n",
      "README.md          \u001b[34massignment_5\u001b[m\u001b[m       \u001b[34mgcp-cloud-function\u001b[m\u001b[m\n",
      "\u001b[34massignment_2\u001b[m\u001b[m       \u001b[34massignment_6\u001b[m\u001b[m       \u001b[34mimg\u001b[m\u001b[m\n",
      "\u001b[34massignment_3\u001b[m\u001b[m       \u001b[34mdata\u001b[m\u001b[m               \u001b[34mpython-for-data\u001b[m\u001b[m\n"
     ]
    }
   ],
   "source": [
    "!ls .."
   ]
  },
  {
   "cell_type": "markdown",
   "metadata": {},
   "source": [
    "# TODO 1: Python Data Viz\n",
    "Hoàn tất các sets bài tập trên [Kaggle Data Visualization](https://www.kaggle.com/learn/data-visualization) - Nếu chưa hoàn thành trong [Assignment 5](https://github.com/anhdanggit/atom-assignments/blob/main/assignment_5/home_assignment_5.ipynb)"
   ]
  },
  {
   "cell_type": "markdown",
   "metadata": {},
   "source": [
    "Đã hoàn thành ở phần Assignment 5 [Assingment 5](https://github.com/Quan030994/atom-assignments/blob/main/assignment_5/home_assignment_5.ipynb)"
   ]
  },
  {
   "cell_type": "markdown",
   "metadata": {
    "id": "t28PUQoNzy1k"
   },
   "source": [
    "# TODO 2 (OPTIONAL): DEPLOY GOOGLE CLOUD FUNCTION\n",
    "* Làm theo Lab của Week 6: [HERE](https://anhdang.gitbook.io/datacracy/atom/6-cloud-function-and-streamlit/6.2-lab-cloud-function-hands-on)\n",
    "* Click đôi vào các tab Markdown bên dưới để trả lời các câu hỏi ([Markdown Cheatsheet](https://guides.github.com/features/mastering-markdown/))"
   ]
  },
  {
   "cell_type": "markdown",
   "metadata": {},
   "source": [
    "## Screenshot Cloud Function on GCP\n",
    "> *Copy Screenshot vào folder img trong repo, và đổi link bên dưới*\n",
    "\n",
    "![Cloud Function Deployed](/img/yourscreenshot.png)"
   ]
  },
  {
   "cell_type": "code",
   "execution_count": null,
   "metadata": {},
   "outputs": [],
   "source": []
  },
  {
   "cell_type": "markdown",
   "metadata": {},
   "source": [
    "## Screenshot Cloud Function Testing on GCP\n",
    "> *Copy Screenshot vào folder img trong repo, và đổi link bên dưới*\n",
    "\n",
    "![Cloud Function Testing](../img/yourscreenshot.png)"
   ]
  },
  {
   "cell_type": "code",
   "execution_count": null,
   "metadata": {},
   "outputs": [],
   "source": []
  },
  {
   "cell_type": "markdown",
   "metadata": {
    "id": "2QUVZlLm00PG"
   },
   "source": [
    "## Screenshot Cloud Function Call on Postman\n",
    "> *Copy Screenshot vào folder img trong repo, và đổi link bên dưới*\n",
    "\n",
    "![\bCloud Function on Postman](../img/yourscreenshot.png)"
   ]
  },
  {
   "cell_type": "code",
   "execution_count": null,
   "metadata": {},
   "outputs": [],
   "source": []
  },
  {
   "cell_type": "markdown",
   "metadata": {
    "id": "u5c_Lx9MyzSF"
   },
   "source": [
    "## Các lỗi gặp trong quá trình thực hiện \n",
    "*Liên kê bên dưới các lỗi bạn gặp và các giải quyết*\n",
    "\n",
    "1. \n",
    "2. \n",
    "3. "
   ]
  },
  {
   "cell_type": "code",
   "execution_count": null,
   "metadata": {},
   "outputs": [],
   "source": []
  },
  {
   "cell_type": "markdown",
   "metadata": {
    "id": "bT_ziqVJ1COI"
   },
   "source": [
    "# TODO 3: HIỂU & DIAGRAM CODE STREAMLIT \n",
    "Mình thường khuyên các bạn mới học code rằng:\n",
    "\n",
    "> Hãy code với một cây bút chì và tờ giấy\n",
    "\n",
    "Như thế nào?\n",
    "\n",
    "1. Đầu tiên, là hình dung trong đầu: Bạn sẽ bắt đầu từ gì (`inputs`) và cho ra những gì (`output`)\n",
    "2. Rồi, để đi từ inputs đến outputs thì bạn cần thực hiện những bước nào (các `functions`)\n",
    "\n",
    "Bạn có thể vẽ ra một diagram như vậy giúp bạn:\n",
    "* Nhìn bức tranh lớn, và không bị sa đà vào tiểu tiết, syntax\n",
    "* Rõ ràng hơn về flow \n",
    "* Giúp bạn tối ưu flow trước, rồi sau đó code sẽ thuận lợi hơn\n",
    "* Rất hiệu quả để bạn debugs trong tương lai\n",
    "\n",
    "Tham khảo Diagram sau của [streamlit/data_glimpse.py](https://github.com/anhdanggit/atom-assignments/blob/main/streamlit/data_glimpse.py) và vẽ diagram theo cách hiểu của bạn cho [streamlit/datacracy_slack.py](https://github.com/anhdanggit/atom-assignments/blob/main/streamlit/datacracy_slack.py)"
   ]
  },
  {
   "cell_type": "markdown",
   "metadata": {},
   "source": [
    "## Diagram Data Glimpse Apps\n",
    "> Bên dưới là ví dụ Diagram của app [streamlit/data_glimpse.py](https://github.com/anhdanggit/atom-assignments/blob/main/streamlit/data_glimpse.py)\n",
    "\n",
    "![data-glimpse-diagream](../img/streamlit-Data-Glimpse-Diagram.png)"
   ]
  },
  {
   "cell_type": "markdown",
   "metadata": {},
   "source": [
    "## DataCracy Slack \n",
    "> Là apps để tổng hợp lịch sử nộp bài, review và discussion của Datacracy Learners\n",
    "![Datacracy-slack-streamlit](../img/dataCracy-slack-streamlit.png)"
   ]
  },
  {
   "cell_type": "markdown",
   "metadata": {},
   "source": [
    "## Diagram DataCracy Slack Apps\n",
    "* Xem code của app [streamlit/datacracy_slack.py](https://github.com/anhdanggit/atom-assignments/blob/main/streamlit/datacracy_slack.py)\n",
    "> *Copy Diagram bạn vẽ vào folder img trong repo, và đổi link bên dưới*\n",
    "\n",
    "![datacracy-slack-diagram](.../GitHub/atom-assignments/img/streamlit-datacracy-Diagram_myself.jpg)"
   ]
  },
  {
   "cell_type": "markdown",
   "metadata": {},
   "source": [
    "### Mình không đưa hình vào để tránh nặng file bạn xem ở link bên dưới nhé. Cảm ơn.\n",
    "\n",
    "[datacracy-slack-diagram](https://github.com/Quan030994/atom-assignments/blob/main/assignment_6/Diagram.jpg)"
   ]
  },
  {
   "cell_type": "markdown",
   "metadata": {},
   "source": [
    "## Giải thích \n",
    "Xem code của app [streamlit/datacracy_slack.py](https://github.com/anhdanggit/atom-assignments/blob/main/streamlit/datacracy_slack.py):\n",
    "\n",
    "1. Trong mỗi function (steps) trong Diagram của bạn, giải thích function làm những việc gì?\n",
    "2. Liệt kê các logics được áp dụng để xử lý data?"
   ]
  },
  {
   "cell_type": "code",
   "execution_count": 17,
   "metadata": {},
   "outputs": [],
   "source": [
    "## YOUR ANSWER"
   ]
  },
  {
   "cell_type": "markdown",
   "metadata": {
    "id": "UccXW_FH4Glg"
   },
   "source": [
    "### Trong Diagram tổng cộng có thể chia làm 3 bước chính:\n",
    "\n",
    "Bước 1: Get thông tin token để sử dụng cho API get data.\n",
    "\n",
    "Bước 2: Sử dụng các function để lấy các thông tin khác nhau:\n",
    "- Thông tin User. Function load_users_df.\n",
    "- Thông tin Channel. Function load_channel_df.\n",
    "- Thông tin message của Channel. Function load_msg_dict.\n",
    "- Xử lý các thông tin về user_reply, thông tin thời gian. Function process_msg_data.\n",
    "\n",
    "Bước 3: Xử lý thông tin đầu vào để hiển thị các thông tin lên Streamlit App.\n",
    "- Kiểm tra thông tin User_id từ đâù vào.\n",
    "- Xử lý các thông tin liên quan đến Submission của User.\n",
    "- Xử lý các thông tin liên quan đến reviewed và được review của User.\n",
    "- Xử lý các thông tin discussion của User.\n",
    "\n",
    "\n",
    "### Các logics được áp dụng để xử lý data\n",
    "\n",
    "##### Đối với get data thì tập trung chủ yếu ở DataFarm của message channel:\n",
    "###### 1. Function load_msg_dict (get thông tin từ message channel):\n",
    " - Sử dụng key 'client_msg_id' để lọc dữ liệu trong file JSON.\n",
    " - Với key 'latest_reply' giá trị bằng 0 nếu không có thông tin. Sử dụng function fromtimestamp để chuyển đổi thông tin về datetime. Với 'latest_reply' không có thông tin sẽ là 1970-01-01\n",
    " - Với key 'reply_user_count' giá trị bằng 0 nếu không có thông tin, tương tự với key 'reply_users' và 'text'.\n",
    " - Sử dụng regex để lấy thông tin github link. Nếu không có sẽ để giá trị là None.\n",
    "\n",
    "###### 2. Function process_msg_data (xử lý thông tin từ kết quả của load_msg_dict):\n",
    " - Sử dụng index trong list để tách thông tin User_id của người reply ra các cột khác nhau.\n",
    " \n",
    "###### 3. Phần xử lý để hiện thị thông tin trên Streamlit:\n",
    " - DataFrame filter_user_df: sử dụng để filter thông tin của input User_id.\n",
    " - DataFrame filter_msg_df: lấy các thông tin input User_id từ các reply_user sử dụng cho việc field 'ĐÃ REVIEW' và 'THẢO LUẬN'.\n",
    " - DataFrame p_msg_df sử dụng function process_msg_data để xử lý dữ liệu message channel từ đầu vào là filter_msg_df\n",
    " \n",
    "    3.1. Submission\n",
    "    - Chỉ lấy những channel nào có name chứa thông tin 'assignment'.\n",
    "    - Chỉ lấy những User_id mà có DataCracy Role là: Learner.\n",
    "    \n",
    "    3.2 Review\n",
    "    - Chỉ lấy những channel nào có name chứa thông tin 'assignment'.\n",
    "    - Chỉ lấy những User_id mà có DataCracy Role là: Learner.\n",
    "    \n",
    "    3.3 Discussion\n",
    "    - Chỉ lấy những channel nào có name chứa thông tin 'discuss' --> channel discuss của các group.\n",
    "  "
   ]
  },
  {
   "cell_type": "markdown",
   "metadata": {},
   "source": [
    "# TODO 4: VISUALIZATION ON STREAMLIT\n",
    "Áp dụng kiến thức đã học trong *TODO 1* + Pandas thực hiện các tasks sau:\n",
    "\n",
    "1. Tổng hợp cho tất cả learners các chỉ số sau: \n",
    "    * Số assignment đã nộp\n",
    "    * % bài được review \n",
    "    * Số workcount đã thảo luận \n",
    "    * Extract thứ trong tuần (weekday) của ngày nộp bài \n",
    "    * Extract giờ trong ngày nộp bài (hour)\n",
    "    \n",
    "4. Vẽ biểu đồ thể hiện phân phối (Distribution - [Kaggle Tutorial](https://www.kaggle.com/alexisbcook/distributions)) của các thông số trên và add vào app Streamlit"
   ]
  },
  {
   "cell_type": "markdown",
   "metadata": {},
   "source": [
    "### Bạn xem code ở link này nhé: [DataCracy_Slack_app](https://github.com/Quan030994/atom-assignments/blob/main/assignment_6/DataCracy_Slack_app.py)\n",
    "\n",
    "### Hoặc repos dùng để deloy ở link này nhé: [Deloy](https://github.com/Quan030994/DataCracy_Slack_app)"
   ]
  },
  {
   "cell_type": "code",
   "execution_count": null,
   "metadata": {},
   "outputs": [],
   "source": []
  }
 ],
 "metadata": {
  "colab": {
   "name": "home_assignment_5.ipynb",
   "provenance": [],
   "toc_visible": true
  },
  "kernelspec": {
   "display_name": "Python 3",
   "language": "python",
   "name": "python3"
  },
  "language_info": {
   "codemirror_mode": {
    "name": "ipython",
    "version": 3
   },
   "file_extension": ".py",
   "mimetype": "text/x-python",
   "name": "python",
   "nbconvert_exporter": "python",
   "pygments_lexer": "ipython3",
   "version": "3.7.9"
  }
 },
 "nbformat": 4,
 "nbformat_minor": 1
}
